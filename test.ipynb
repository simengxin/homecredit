{
 "cells": [
  {
   "cell_type": "code",
   "execution_count": 1,
   "metadata": {},
   "outputs": [],
   "source": [
    "import numpy as np\n",
    "import pandas as pd\n",
    "import gc\n",
    "import time\n",
    "from contextlib import contextmanager\n",
    "from lightgbm import LGBMClassifier\n",
    "from sklearn.metrics import roc_auc_score, roc_curve\n",
    "from sklearn.model_selection import KFold, StratifiedKFold\n",
    "import matplotlib.pyplot as plt\n",
    "import seaborn as sns\n",
    "import warnings\n",
    "warnings.simplefilter(action='ignore', category=FutureWarning)"
   ]
  },
  {
   "cell_type": "code",
   "execution_count": 10,
   "metadata": {},
   "outputs": [],
   "source": [
    "#os.listdir('./input')"
   ]
  },
  {
   "cell_type": "code",
   "execution_count": 4,
   "metadata": {},
   "outputs": [],
   "source": [
    "# train,test,y=np.load('./input_file/train.npy'),np.load('./input_file/test.npy'),np.load('./input_file/label.npy')\n",
    "# #clf=xgb.XGBClassifier(alpha=5.9850,colsample_bytree=0.1532,gamma=7.1320,max_depth=13,min_child_weight=50,n_estimators=730,subsample=0.8953)\n",
    "# with open('./result/lgbm_best.params.pickle','rb') as f:\n",
    "#     params=pickle.load(f)\n",
    "# clf=LGBMClassifier(learning_rate=params['learning_rate'],\n",
    "#                    max_depth=int(params['max_depth']),\n",
    "#                    min_child_weight=int(params['min_child_weight']),\n",
    "#                    reg_alpha=params['reg_alpha'],\n",
    "#                    reg_gamma=params['reg_gamma'],\n",
    "#                    n_estimators=int(params['n_estimators']),\n",
    "#                    num_iterations=1000,\n",
    "#                    random_state=42)\n",
    "# test_predict=np.zeros(test.shape[0])\n",
    "# clf.fit(train,y)\n",
    "# test_predict=clf.predict_proba(test)[:,1]\n",
    "# sub=pd.DataFrame()\n",
    "# with open('./input_file/testname.pickle','rb') as f:\n",
    "#     testname=pickle.load(f)\n",
    "# sub['SK_ID_CURR']=testname\n",
    "# sub['Target']=test_predict\n",
    "# sub.to_csv('lgbm_bayes.csv',index=False)"
   ]
  },
  {
   "cell_type": "code",
   "execution_count": 5,
   "metadata": {},
   "outputs": [],
   "source": []
  },
  {
   "cell_type": "code",
   "execution_count": 9,
   "metadata": {},
   "outputs": [],
   "source": []
  },
  {
   "cell_type": "code",
   "execution_count": 19,
   "metadata": {},
   "outputs": [],
   "source": [
    "df1=pd.read_csv('lgb_blend.csv')\n",
    "df2=pd.read_csv('weight_rank.csv')\n",
    "df3=pd.DataFrame()"
   ]
  },
  {
   "cell_type": "code",
   "execution_count": 20,
   "metadata": {},
   "outputs": [],
   "source": [
    "df3['SK_ID_CURR']=df2['SK_ID_CURR']"
   ]
  },
  {
   "cell_type": "code",
   "execution_count": null,
   "metadata": {},
   "outputs": [],
   "source": []
  },
  {
   "cell_type": "code",
   "execution_count": null,
   "metadata": {},
   "outputs": [],
   "source": []
  },
  {
   "cell_type": "code",
   "execution_count": 22,
   "metadata": {},
   "outputs": [],
   "source": [
    "df3['TARGET']=df2['TARGET']*0.5+df1['TARGET']*0.5"
   ]
  },
  {
   "cell_type": "code",
   "execution_count": 23,
   "metadata": {},
   "outputs": [],
   "source": [
    "df3.to_csv('blend_weight_half.csv',index=False)"
   ]
  },
  {
   "cell_type": "code",
   "execution_count": 21,
   "metadata": {},
   "outputs": [],
   "source": []
  },
  {
   "cell_type": "code",
   "execution_count": null,
   "metadata": {},
   "outputs": [],
   "source": []
  },
  {
   "cell_type": "code",
   "execution_count": null,
   "metadata": {},
   "outputs": [],
   "source": []
  },
  {
   "cell_type": "code",
   "execution_count": null,
   "metadata": {},
   "outputs": [],
   "source": []
  }
 ],
 "metadata": {
  "kernelspec": {
   "display_name": "Python 3",
   "language": "python",
   "name": "python3"
  },
  "language_info": {
   "codemirror_mode": {
    "name": "ipython",
    "version": 3
   },
   "file_extension": ".py",
   "mimetype": "text/x-python",
   "name": "python",
   "nbconvert_exporter": "python",
   "pygments_lexer": "ipython3",
   "version": "3.6.4"
  }
 },
 "nbformat": 4,
 "nbformat_minor": 2
}
